{
  "nbformat": 4,
  "nbformat_minor": 0,
  "metadata": {
    "colab": {
      "provenance": []
    },
    "kernelspec": {
      "name": "python3",
      "display_name": "Python 3"
    },
    "language_info": {
      "name": "python"
    }
  },
  "cells": [
    {
      "cell_type": "markdown",
      "source": [
        "# Pythonの基礎2"
      ],
      "metadata": {
        "id": "z6_VzYVKZdAZ"
      }
    },
    {
      "cell_type": "markdown",
      "source": [
        "# 練習問題"
      ],
      "metadata": {
        "id": "IRTMejJZx-Y6"
      }
    },
    {
      "cell_type": "markdown",
      "source": [
        "# (1) for文、文字列の操作\n",
        "あらかじめ、文字列\"Fukuoka, Saga, Nagasaki, Kumamoto, Oita, Miyazaki, Kagoshima\"が定義してあります。この文字列をsplitやstripなどの命令で操作して、\"SagaOita\"という文字列を作成してください。作成した文字列は、print関数で画面に表示してください。"
      ],
      "metadata": {
        "id": "ZEoTCyETZhxW"
      }
    },
    {
      "cell_type": "code",
      "source": [
        "kyushu = \"Fukuoka,Saga,Nagasaki,Kumamoto,Oita,Miyazaki,Kagoshima,Okinawa\"\n",
        "\n",
        "# プログラムを作成してみましょう"
      ],
      "metadata": {
        "id": "xo1xPUn3vJiw"
      },
      "execution_count": null,
      "outputs": []
    },
    {
      "cell_type": "markdown",
      "source": [
        "## (2) if文、関数\n",
        "次のような関数を自作してみましょう。\n",
        "\n",
        "* 関数名は odd_or_even\n",
        "* 関数の引数は、整数の数値を1つ\n",
        "* 関数の戻り値は、次のとおり\n",
        "  * 引数が奇数なら、戻り値は文字列\"ODD\"\n",
        "  * 引数が偶数なら、戻り値は文字列\"EVEN\"\n",
        "\n",
        "関数呼び出し部分はすでに記述してありますので、関数の定義だけ記述すればOKです。\n",
        "\n",
        "【ヒント】\n",
        "\n",
        "奇数か偶数かを、if文を使って判定します。判定方法は、最初の講義で学んだ「算術演算子」のどれかを使います。"
      ],
      "metadata": {
        "id": "QST2uP1KZklD"
      }
    },
    {
      "cell_type": "code",
      "source": [
        "# ここに関数 odd_or_even を記述しましょう\n",
        "\n",
        "\n",
        "# 関数の呼び出し (変更不要です)\n",
        "return_value = odd_or_even(10)\n",
        "print(\"10 is \" + return_value)\n",
        "\n",
        "return_value = odd_or_even(15)\n",
        "print(\"15 is \" + return_value)"
      ],
      "metadata": {
        "id": "W0e1H_1koW2t"
      },
      "execution_count": null,
      "outputs": []
    }
  ]
}
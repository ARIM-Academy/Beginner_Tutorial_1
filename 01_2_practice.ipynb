{
  "nbformat": 4,
  "nbformat_minor": 0,
  "metadata": {
    "colab": {
      "provenance": []
    },
    "kernelspec": {
      "name": "python3",
      "display_name": "Python 3"
    },
    "language_info": {
      "name": "python"
    }
  },
  "cells": [
    {
      "cell_type": "markdown",
      "source": [
        "# Pythonの基礎1"
      ],
      "metadata": {
        "id": "q_UHZvouP3oz"
      }
    },
    {
      "cell_type": "markdown",
      "source": [
        "# 練習問題\n",
        "最初の講義、大変お疲れ様でした。講義のあとは、簡単な練習問題にチャレンジしていただきます。"
      ],
      "metadata": {
        "id": "NpDj_IQ7P8x0"
      }
    },
    {
      "cell_type": "markdown",
      "source": [
        "## (1) 文字列の長さ\n",
        "print関数とlen関数を使って、文字列 \"第1回 Pythonの基礎 前編\" の長さを画面に出力しましょう。\n",
        "\n",
        "(指で数えるのではなく、len関数を使ってくださいね！)"
      ],
      "metadata": {
        "id": "NHs6A4aGhWKA"
      }
    },
    {
      "cell_type": "code",
      "source": [
        "# 解答例\n",
        "length = len(\"第1回 Pythonの基礎 前編\" )\n",
        "print(length)"
      ],
      "metadata": {
        "id": "pvFA22muiHls",
        "colab": {
          "base_uri": "https://localhost:8080/"
        },
        "outputId": "7058306a-7dcb-4691-dbe0-dbcf7477a69f"
      },
      "execution_count": null,
      "outputs": [
        {
          "output_type": "stream",
          "name": "stdout",
          "text": [
            "16\n"
          ]
        }
      ]
    },
    {
      "cell_type": "markdown",
      "source": [
        "## (2) リストのスライス\n",
        "あらかじめリストkyushuを定義してあります。次の内容をprint関数で画面に出力しましょう。\n",
        "\n",
        "1. リストkyushuの 3個目の項目\n",
        "1. リストkyushuの 後ろから3個目の項目\n",
        "1. リストkyushuの 2個目から4個目までの項目\n",
        "1. リストkyushuの 4個目から最後までの項目\n",
        "1. リストkyushuの 2個目から6個目までの項目を1個おきに(Dを2とする)\n",
        "\n",
        "「x個め」は1から始まる順序です\n",
        "\n"
      ],
      "metadata": {
        "id": "uVKnP7XTP_Me"
      }
    },
    {
      "cell_type": "code",
      "source": [
        "kyushu = [\"Fukuoka\", \"Saga\", \"Nagasaki\", \"Kumamoto\", \"Oita\", \"Miyazaki\", \"Kagoshima\"]\n",
        "\n",
        "# 解答例\n",
        "print(kyushu[2])\n",
        "print(kyushu[-3])\n",
        "print(kyushu[1:4])\n",
        "print(kyushu[3:])\n",
        "print(kyushu[1:6:2])"
      ],
      "metadata": {
        "id": "UfaUgHuXkB9v",
        "colab": {
          "base_uri": "https://localhost:8080/"
        },
        "outputId": "2bcfe91e-fade-4d14-9bc6-4d4f26680d15"
      },
      "execution_count": null,
      "outputs": [
        {
          "output_type": "stream",
          "name": "stdout",
          "text": [
            "Nagasaki\n",
            "Oita\n",
            "['Saga', 'Nagasaki', 'Kumamoto']\n",
            "['Kumamoto', 'Oita', 'Miyazaki', 'Kagoshima']\n",
            "['Saga', 'Kumamoto', 'Miyazaki']\n"
          ]
        }
      ]
    },
    {
      "cell_type": "markdown",
      "source": [
        "## (3) 演算子\n",
        "以下の数式をPythonで記述して、print関数で計算結果を画面に出力しましょう。\n",
        "\n",
        "$(5^2 + 4^3) / 7$\n",
        "\n",
        "もし時間があれば、もう一つ、計算結果の小数点以下を切り捨てた整数でも結果を表示してみてください。"
      ],
      "metadata": {
        "id": "bAiVzt1JmejL"
      }
    },
    {
      "cell_type": "code",
      "source": [
        "# 解答例\n",
        "print((5 ** 2 + 4 ** 3)/7)\n",
        "print((5 ** 2 + 4 ** 3)//7)"
      ],
      "metadata": {
        "id": "suH0DUNbnTM8",
        "colab": {
          "base_uri": "https://localhost:8080/"
        },
        "outputId": "4deb5f88-86dc-4edd-e304-9f34c6d03e74"
      },
      "execution_count": null,
      "outputs": [
        {
          "output_type": "stream",
          "name": "stdout",
          "text": [
            "12.714285714285714\n",
            "12\n"
          ]
        }
      ]
    }
  ]
}